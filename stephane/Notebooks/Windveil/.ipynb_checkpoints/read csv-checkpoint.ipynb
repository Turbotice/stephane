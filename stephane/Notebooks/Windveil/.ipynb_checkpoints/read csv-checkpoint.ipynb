{
 "cells": [
  {
   "cell_type": "code",
   "execution_count": 1,
   "metadata": {},
   "outputs": [],
   "source": [
    "%load_ext autoreload\n",
    "%autoreload 2\n",
    "%matplotlib inline"
   ]
  },
  {
   "cell_type": "code",
   "execution_count": 2,
   "metadata": {},
   "outputs": [],
   "source": [
    "import numpy as np\n",
    "import pylab as plt\n",
    "import glob\n",
    "import os\n",
    "import scipy.integrate as inte\n",
    "import scipy.special as special\n",
    "import scipy.interpolate as interp"
   ]
  },
  {
   "cell_type": "code",
   "execution_count": 3,
   "metadata": {},
   "outputs": [],
   "source": [
    "import stephane.display.graphes as graphes\n",
    "import stephane.tools.Smath as smath\n",
    "#import sympy #symoblic python\n",
    "import mpmath as math\n",
    "import cv2\n",
    "import glob\n",
    "import csv\n"
   ]
  },
  {
   "cell_type": "code",
   "execution_count": 9,
   "metadata": {},
   "outputs": [],
   "source": [
    "folder = '/media/turbots/DATA/thiou/labshared2/Windveil/NedFacades/recaps/'\n",
    "filename = glob.glob(folder+'*.csv')[0]"
   ]
  },
  {
   "cell_type": "code",
   "execution_count": 13,
   "metadata": {},
   "outputs": [
    {
     "name": "stdout",
     "output_type": "stream",
     "text": [
      "['\\ufeff', 'scale factor (mm/pxl)', 'fps']\n",
      "['1_2_1', '19,4239', '29,97']\n",
      "['1_2_2', '19,4195', '29,97']\n",
      "['1_4_1', '19,71164796', '29,97']\n",
      "['1_4_2', '19,42441956', '29,97']\n",
      "['1_5_1', '19,2836629', '29,97']\n",
      "['2_3_1', '15,35411591', '25,02']\n",
      "['3_3_1', '5,703582538', '29,97']\n",
      "['4_1_1', '38,46364007', '29,97']\n",
      "['4_2_1', '38,64254072', '29,97']\n",
      "['4_3_1', '38,20126872', '29,97']\n",
      "['6_1_1', '21,98076923', '29,97']\n",
      "['8_1_1', '11,19013501', '25']\n",
      "['9_1_1', '15,40212766', '25']\n",
      "['9_2_1', '15,40212766', '25']\n",
      "['9_4_1', '15,40212766', '25']\n",
      "['10_1_1', '9,03498975', '25']\n",
      "['10_1_2', '9,004929113', '25']\n",
      "['10_1_3', '10,12781979', '25']\n",
      "['10_1_4', '9,028009331', '25']\n",
      "['10_2_1', '22,48023371', '25']\n",
      "['10_2_2', '22,56610945', '25']\n",
      "['10_2_3', '22,56610945', '25']\n",
      "['10_2_4', '22,57435077', '25']\n",
      "['10_3_1', '8,995246393', '25']\n",
      "['10_4_1', '22,48811598', '25']\n",
      "['10_4_2', '22,53768567', '25']\n",
      "['10_4_3', '22,69730776', '25']\n",
      "['10_6_1', '8,977981045', '25']\n",
      "['11_1_1', '9,4126895', '29,97']\n",
      "['11_2_1', '9,481900452', '29,97']\n",
      "['11_3_1', '9,361440737', '29,97']\n",
      "['11_4_1', '9,277255119', '29,97']\n",
      "['11_5_1', '9,458717322', '29,97']\n"
     ]
    }
   ],
   "source": [
    "rows = []\n",
    "with open(filename) as csvfile:\n",
    "    spamreader = csv.reader(csvfile, delimiter=';', quotechar='|')\n",
    "    for row in spamreader:\n",
    "        rows.append(row)\n",
    "#        print(', '.join(row))"
   ]
  },
  {
   "cell_type": "code",
   "execution_count": 12,
   "metadata": {},
   "outputs": [
    {
     "data": {
      "text/plain": [
       "<_csv.reader at 0x7f684b5c0dd0>"
      ]
     },
     "execution_count": 12,
     "metadata": {},
     "output_type": "execute_result"
    }
   ],
   "source": [
    "spamreader"
   ]
  },
  {
   "cell_type": "code",
   "execution_count": null,
   "metadata": {},
   "outputs": [],
   "source": []
  }
 ],
 "metadata": {
  "kernelspec": {
   "display_name": "Python 3",
   "language": "python",
   "name": "python3"
  },
  "language_info": {
   "codemirror_mode": {
    "name": "ipython",
    "version": 3
   },
   "file_extension": ".py",
   "mimetype": "text/x-python",
   "name": "python",
   "nbconvert_exporter": "python",
   "pygments_lexer": "ipython3",
   "version": "3.8.10"
  }
 },
 "nbformat": 4,
 "nbformat_minor": 4
}
